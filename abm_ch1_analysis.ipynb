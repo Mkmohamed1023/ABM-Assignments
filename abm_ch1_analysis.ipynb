{
  "cells": [
    {
      "cell_type": "markdown",
      "metadata": {},
      "source": [
        "# abm_ch1_analysis.ipynb — Procedural version\n",
        "Load CSVs and display samples + figures.\n"
      ]
    },
    {
      "cell_type": "code",
      "execution_count": 1,
      "metadata": {},
      "outputs": [],
      "source": [
        "import pandas as pd\n",
        "from IPython.display import display, Image\n",
        "agents = pd.read_csv('data/agents.csv')\n",
        "events = pd.read_csv('data/events.csv')\n",
        "env    = pd.read_csv('data/env.csv')\n",
        "glob   = pd.read_csv('data/global.csv')\n",
        "display(agents.sample(10, random_state=0).sort_values(['t','agent_id']))\n",
        "display(events.head(10))\n",
        "display(Image(filename='figures/ant_paths.png'))\n",
        "display(Image(filename='figures/pheromone.png'))\n"
      ]
    }
  ],
  "metadata": {
    "kernelspec": {
      "display_name": "Python 3",
      "language": "python",
      "name": "python3"
    },
    "language_info": {
      "name": "python",
      "version": "3.x"
    }
  },
  "nbformat": 4,
  "nbformat_minor": 5
}